{
  "nbformat": 4,
  "nbformat_minor": 0,
  "metadata": {
    "colab": {
      "private_outputs": true,
      "provenance": []
    },
    "kernelspec": {
      "name": "python3",
      "display_name": "Python 3"
    },
    "language_info": {
      "name": "python"
    },
    "accelerator": "GPU",
    "gpuClass": "standard"
  },
  "cells": [
    {
      "cell_type": "markdown",
      "source": [
        "[![Open In Colab](https://colab.research.google.com/assets/colab-badge.svg)](https://colab.research.google.com/github/Deyht/ML_OSAE_M2/blob/main/codes/CNN/ASIRRA_CIANNA.ipynb)\n",
        "\n",
        "---\n",
        "\n",
        "\n",
        "**Link to the CIANNA github repository**\n",
        "https://github.com/Deyht/CIANNA"
      ],
      "metadata": {
        "id": "JfKCrIlDu-E0"
      }
    },
    {
      "cell_type": "markdown",
      "source": [
        "### **CIANNA installation**"
      ],
      "metadata": {
        "id": "vIXMFIFmvYzG"
      }
    },
    {
      "cell_type": "markdown",
      "source": [
        "#### Query GPU allocation and properties\n",
        "\n",
        "If nvidia-smi fail, it might indicate that you launched the colab session whithout GPU reservation.  \n",
        "To change the type of reservation go to \"Runtime\"->\"Change runtime type\" and select \"GPU\" as your hardware accelerator."
      ],
      "metadata": {
        "id": "Ke8s2bCZvk1_"
      }
    },
    {
      "cell_type": "code",
      "source": [
        "%%shell\n",
        "\n",
        "nvidia-smi\n",
        "\n",
        "cd /content/\n",
        "\n",
        "git clone https://github.com/NVIDIA/cuda-samples/\n",
        "\n",
        "cd /content/cuda-samples/Samples/1_Utilities/deviceQuery/\n",
        "\n",
        "make SMS=\"50 60 70 80\"\n",
        "\n",
        "./deviceQuery | grep Capability | cut -c50- > ~/cuda_infos.txt\n",
        "./deviceQuery | grep \"CUDA Driver Version / Runtime Version\" | cut -c57- >> ~/cuda_infos.txt\n",
        "\n",
        "cd ~/"
      ],
      "metadata": {
        "id": "AHq06Uwk49Ak"
      },
      "execution_count": null,
      "outputs": []
    },
    {
      "cell_type": "markdown",
      "source": [
        "If you are granted a GPU that supports high FP16 compute scaling (e.g the Tesla T4), it is advised to change the mixed_precision parameter in the last cell to \"FP16C_FP32A\".  \n",
        "See the detail description on mixed precision support with CIANNA on the [Systeme Requirements](https://github.com/Deyht/CIANNA/wiki/1\\)-System-Requirements) wiki page."
      ],
      "metadata": {
        "id": "tZ-lmHiRBFwt"
      }
    },
    {
      "cell_type": "markdown",
      "source": [
        "#### Clone CIANNA git repository"
      ],
      "metadata": {
        "id": "A1SJ6-x8vqsC"
      }
    },
    {
      "cell_type": "code",
      "source": [
        "%%shell\n",
        "\n",
        "cd /content/\n",
        "\n",
        "git clone https://github.com/Deyht/CIANNA\n",
        "\n",
        "cd CIANNA"
      ],
      "metadata": {
        "id": "_uptvrov55YL"
      },
      "execution_count": null,
      "outputs": []
    },
    {
      "cell_type": "markdown",
      "source": [
        "#### Compiling CIANNA for the allocated GPU generation\n",
        "\n",
        "There is no guaranteed forward or backward compatibility between Nvidia GPU generation, and some capabilities are generation specific. For these reasons, CIANNA must be provided the platform GPU generation at compile time.\n",
        "The following cell will automatically update all the necessary files based on the detected GPU, and compile CIANNA."
      ],
      "metadata": {
        "id": "JYGPC3OUv0td"
      }
    },
    {
      "cell_type": "code",
      "source": [
        "%%shell\n",
        "\n",
        "cd /content/CIANNA\n",
        "\n",
        "mult=\"10\"\n",
        "cat ~/cuda_infos.txt\n",
        "comp_cap=\"$(sed '1!d' ~/cuda_infos.txt)\"\n",
        "cuda_vers=\"$(sed '2!d' ~/cuda_infos.txt)\"\n",
        "\n",
        "lim=\"11.1\"\n",
        "old_arg=$(awk '{if ($1 < $2) print \"-D CUDA_OLD\";}' <<<\"${cuda_vers} ${lim}\")\n",
        "\n",
        "sm_val=$(awk '{print $1*$2}' <<<\"${mult} ${comp_cap}\")\n",
        "\n",
        "gen_val=$(awk '{if ($1 >= 80) print \"-D GEN_AMPERE\"; else if($1 >= 70) print \"-D GEN_VOLTA\";}' <<<\"${sm_val}\")\n",
        "\n",
        "sed -i \"s/.*arch=sm.*/\\\\t\\tcuda_arg=\\\"\\$cuda_arg -D CUDA -D comp_CUDA -lcublas -lcudart -arch=sm_$sm_val $old_arg $gen_val\\\"/g\" compile.cp\n",
        "sed -i \"s/\\/cuda-[0-9][0-9].[0-9]/\\/cuda-$cuda_vers/g\" compile.cp\n",
        "sed -i \"s/\\/cuda-[0-9][0-9].[0-9]/\\/cuda-$cuda_vers/g\" src/python_module_setup.py\n",
        "\n",
        "./compile.cp CUDA PY_INTERF\n",
        "\n",
        "mv src/build/lib.linux-x86_64-* src/build/lib.linux-x86_64"
      ],
      "metadata": {
        "id": "HGJUvmWW7YE6"
      },
      "execution_count": null,
      "outputs": []
    },
    {
      "cell_type": "markdown",
      "source": [
        "#### Testing CIANNA installation\n",
        "\n",
        "**IMPORTANT NOTE**   \n",
        "CIANNA is mainly used in a script fashion and was not designed to run in notebooks. Every cell code that directly invokes CIANNA functions must be run as a script to avoid possible errors.  \n",
        "To do so, the cell must have the following structure.\n",
        "\n",
        "```\n",
        "%%shell\n",
        "\n",
        "cd /content/CIANNA\n",
        "\n",
        "python3 - <<EOF\n",
        "\n",
        "[... your python code ...]\n",
        "\n",
        "EOF\n",
        "```\n",
        "\n",
        "This syntax allows one to easily edit python code in the notebook while running the cell as a script. Note that all the notebook variables can not be accessed by the cell in this context.\n"
      ],
      "metadata": {
        "id": "vbnBhbIL8wv1"
      }
    },
    {
      "cell_type": "code",
      "source": [
        "%%shell\n",
        "\n",
        "cd /content/\n",
        "\n",
        "wget https://share.obspm.fr/s/jqGotokdYDXTbDS/download/data_asirra.tar.gz\n",
        "\n",
        "tar -xzf data_asirra.tar.gz"
      ],
      "metadata": {
        "id": "zZ_GKLD786w-"
      },
      "execution_count": null,
      "outputs": []
    },
    {
      "cell_type": "code",
      "source": [
        "import numpy as np\n",
        "\n",
        "import matplotlib.pyplot as plt\n",
        "\n",
        "from PIL import Image\n",
        "from PIL import ImageOps\n",
        "from tqdm import tqdm\n",
        "\n",
        "def make_square(im, min_size=128, fill_color=(0, 0, 0, 0)):\n",
        "    x, y = im.size\n",
        "    size = max(min_size, x, y)\n",
        "    new_im = Image.new('RGB', (size, size), fill_color)\n",
        "    new_im.paste(im, (int((size - x) / 2), int((size - y) / 2)))\n",
        "    return new_im\n",
        "\n",
        "def zoom_at(img, x, y, zoom):\n",
        "    w, h = img.size\n",
        "    zoom2 = zoom*2\n",
        "    img = img.crop((x - w / zoom2, y - h / zoom2,\n",
        "                    x + w / zoom2, y + h / zoom2))\n",
        "    return img.resize((w, h), Image.LANCZOS)\n",
        "\n",
        "def roll_zeropad(a, shift, axis=None):\n",
        "    a = np.asanyarray(a)\n",
        "    if shift == 0: return a\n",
        "    if axis is None:\n",
        "        n = a.size\n",
        "        reshape = True\n",
        "    else:\n",
        "        n = a.shape[axis]\n",
        "        reshape = False\n",
        "    if np.abs(shift) > n:\n",
        "        res = np.zeros_like(a)\n",
        "    elif shift < 0:\n",
        "        shift += n\n",
        "        zeros = np.zeros_like(a.take(np.arange(n-shift), axis))\n",
        "        res = np.concatenate((a.take(np.arange(n-shift,n), axis), zeros), axis)\n",
        "    else:\n",
        "        zeros = np.zeros_like(a.take(np.arange(n-shift,n), axis))\n",
        "        res = np.concatenate((zeros, a.take(np.arange(n-shift), axis)), axis)\n",
        "    if reshape:\n",
        "        return res.reshape(a.shape)\n",
        "    else:\n",
        "        return res\n",
        "\n",
        "def im_transform(im):\n",
        "\tim2 = im.copy()\n",
        "\tif(np.random.randint(0,2)):\n",
        "\t\tim2 = ImageOps.mirror(im2)\n",
        "\tim2 = im2.transform(im2.size, Image.AFFINE, (1.0-0.2*np.random.rand(),0.0, (np.random.rand()*2.0-1.0)*(im2.size[0]*0.1),\n",
        "\t\t0.0,1.0-0.2*np.random.rand(), (np.random.rand()*2.0-1.0)*(im2.size[1]*0.1)))\n",
        "\t#im2 = im2.rotate(np.random.rand()*40.0-20.0)\n",
        "\tim2 = im2.resize((128,128))\n",
        "\n",
        "\treturn im2\n",
        "\n",
        "\n",
        "orig_nb_images = 11500\n",
        "test_size = 1000\n",
        "image_size = 128\n",
        "augm_fact = 1\n",
        "\n",
        "train_im = np.zeros((orig_nb_images*augm_fact*2, 3, image_size, image_size), dtype=\"uint8\")\n",
        "\n",
        "for i in tqdm(range(0, orig_nb_images)):\n",
        "\tim = Image.open(\"/content/data/PetImages/Cat/\"+str(i)+\".jpg\")\n",
        "\twidth, height = im.size\n",
        "\n",
        "\tim = make_square(im)\n",
        "\twidth2, height2 = im.size\n",
        "\n",
        "\tx_offset = int((width2 - width)*0.5)\n",
        "\ty_offset = int((height2 - height)*0.5)\n",
        "\n",
        "\tim = im.resize((image_size,image_size))\n",
        "\n",
        "\tfor k in range(0,augm_fact):\n",
        "\t\tim_array = np.asarray(im_transform(im))\n",
        "\t\tfor depth in range(0,3):\n",
        "\t\t\ttrain_im[i*augm_fact+k,depth,:,:] = im_array[:,:,depth]\n",
        "\n",
        "for i in tqdm(range(0,orig_nb_images)):\n",
        "\tim = Image.open(\"/content/data/PetImages/Dog/\"+str(i)+\".jpg\")\n",
        "\twidth, height = im.size\n",
        "\n",
        "\tim = make_square(im)\n",
        "\twidth2, height2 = im.size\n",
        "\n",
        "\tx_offset = int((width2 - width)*0.5)\n",
        "\ty_offset = int((height2 - height)*0.5)\n",
        "\n",
        "\tim = im.resize((image_size,image_size))\n",
        "\n",
        "\tfor k in range(0,augm_fact):\n",
        "\t\tim_array = np.asarray(im_transform(im))\n",
        "\t\tfor depth in range(0,3):\n",
        "\t\t\ttrain_im[orig_nb_images*augm_fact+i*augm_fact+k,depth,:,:] = im_array[:,:,depth]\n",
        "\n",
        "train_im.tofile(\"train_im.dat\")\n",
        "\n",
        "del (train_im)\n",
        "\n",
        "\n",
        "test_im = np.zeros((test_size*2, 3, image_size, image_size), dtype=\"uint8\")\n",
        "\n",
        "for i in tqdm(range(0, test_size)):\n",
        "\tim = Image.open(\"/content/data/PetImages/Cat/\"+str(orig_nb_images+i)+\".jpg\")\n",
        "\twidth, height = im.size\n",
        "\n",
        "\tim = make_square(im)\n",
        "\twidth2, height2 = im.size\n",
        "\n",
        "\tx_offset = int((width2 - width)*0.5)\n",
        "\ty_offset = int((height2 - height)*0.5)\n",
        "\n",
        "\tim = im.resize((image_size,image_size))\n",
        "\n",
        "\tim_array = np.asarray((im))\n",
        "\tfor depth in range(0,3):\n",
        "\t\ttest_im[i,depth,:,:] = im_array[:,:,depth]\n",
        "\n",
        "for i in tqdm(range(0,test_size)):\n",
        "\tim = Image.open(\"/content/data/PetImages/Dog/\"+str(orig_nb_images+i)+\".jpg\")\n",
        "\twidth, height = im.size\n",
        "\n",
        "\tim = make_square(im)\n",
        "\twidth2, height2 = im.size\n",
        "\n",
        "\tx_offset = int((width2 - width)*0.5)\n",
        "\ty_offset = int((height2 - height)*0.5)\n",
        "\n",
        "\tim = im.resize((image_size,image_size))\n",
        "\n",
        "\tim_array = np.asarray((im))\n",
        "\tfor depth in range(0,3):\n",
        "\t\ttest_im[test_size+i,depth, :,:] = im_array[:,:,depth]\n",
        "\n",
        "test_im.tofile(\"test_im.dat\")\n",
        "\n",
        "del (test_im)"
      ],
      "metadata": {
        "id": "2L-7ZffT9Ayq"
      },
      "execution_count": null,
      "outputs": []
    },
    {
      "cell_type": "code",
      "source": [
        "%%shell\n",
        "\n",
        "python3 - << EOF\n",
        "\n",
        "import numpy as np\n",
        "import matplotlib.pyplot as plt\n",
        "from PIL import Image\n",
        "from PIL import ImageOps\n",
        "\n",
        "import sys\n",
        "sys.path.insert(0,'/content/CIANNA/src/build/lib.linux-x86_64')\n",
        "import CIANNA as cnn\n",
        "\n",
        "def i_ar(int_list):\n",
        "\treturn np.array(int_list, dtype=\"int\")\n",
        "\n",
        "def f_ar(float_list):\n",
        "\treturn np.array(float_list, dtype=\"float32\")\n",
        "\n",
        "cnn.init(in_dim=i_ar([128,128]), in_nb_ch=3, out_dim=2, bias=0.1, b_size=16,\n",
        "\tcomp_meth=\"C_CUDA\", dynamic_load=1, mixed_precision=\"FP32C_FP32A\")\n",
        "\n",
        "image_size = 128\n",
        "nb_per_class = 11500\n",
        "nb_test = 1000\n",
        "augm_fact = 1\n",
        "train_data = np.fromfile(\"train_im.dat\", dtype=\"uint8\")\n",
        "train_data = np.reshape(train_data, ((nb_per_class*2*augm_fact, image_size*image_size*3))).astype(\"float32\")\n",
        "\n",
        "train_targets = np.zeros((nb_per_class*2*augm_fact,2), dtype=\"float32\")\n",
        "\n",
        "train_data[:,:] /= 255.0\n",
        "\n",
        "train_targets[0:nb_per_class*augm_fact,0] = 1.0\n",
        "train_targets[nb_per_class*augm_fact:,1]  = 1.0\n",
        "\n",
        "cnn.create_dataset(\"TRAIN\", nb_per_class*augm_fact*2, train_data[:,:], train_targets[:,:])\n",
        "del (train_data, train_targets)\n",
        "\n",
        "test_data = np.fromfile(\"test_im.dat\", dtype=\"uint8\")\n",
        "test_data = np.reshape(test_data, ((nb_test*2, image_size*image_size*3))).astype(\"float32\")\n",
        "\n",
        "test_targets = np.zeros((nb_test*2,2), dtype=\"float32\")\n",
        "\n",
        "test_data[:,:] /= 255.0\n",
        "\n",
        "test_targets[0:nb_test,0] = 1.0\n",
        "test_targets[nb_test:,1]  = 1.0\n",
        "\n",
        "cnn.create_dataset(\"VALID\", nb_test*2, test_data[:,:], test_targets[:,:])\n",
        "cnn.create_dataset(\"TEST\",  nb_test*2, test_data[:,:], test_targets[:,:])\n",
        "\n",
        "del (test_data, test_targets)\n",
        "\n",
        "\n",
        "\n",
        "cnn.conv(f_size=i_ar([3,3]), nb_filters=16, padding=i_ar([1,1]), activation=\"RELU\")\n",
        "cnn.pool(p_size=i_ar([2,2]), p_type=\"MAX\")\n",
        "cnn.conv(f_size=i_ar([3,3]), nb_filters=32, padding=i_ar([1,1]), activation=\"RELU\")\n",
        "cnn.pool(p_size=i_ar([2,2]), p_type=\"MAX\")\n",
        "cnn.conv(f_size=i_ar([3,3]), nb_filters=64, padding=i_ar([1,1]), activation=\"RELU\")\n",
        "cnn.pool(p_size=i_ar([2,2]), p_type=\"MAX\")\n",
        "cnn.conv(f_size=i_ar([3,3]), nb_filters=128, padding=i_ar([1,1]), activation=\"RELU\")\n",
        "cnn.pool(p_size=i_ar([2,2]), p_type=\"MAX\")\n",
        "cnn.dense(nb_neurons=512, activation=\"RELU\", drop_rate=0.5)\n",
        "cnn.dense(nb_neurons=2, activation=\"SMAX\")\n",
        "\n",
        "for t in range(0,1):\n",
        "\tcnn.train(nb_iter=40, learning_rate=0.002, end_learning_rate=0.00004, control_interv=1,\n",
        "\t\tmomentum=0.9, lr_decay=0.06, confmat=1, shuffle_gpu=0, save_every=20, shuffle_every=1)\n",
        "\n",
        "\tif(t == 0):\n",
        "\t\tcnn.perf_eval\n",
        "\n",
        "EOF"
      ],
      "metadata": {
        "id": "BmA6rPkDsQFr"
      },
      "execution_count": null,
      "outputs": []
    }
  ]
}
